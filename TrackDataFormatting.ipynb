{
 "cells": [
  {
   "cell_type": "code",
   "execution_count": 1,
   "metadata": {},
   "outputs": [],
   "source": [
    "import pandas as pd\n",
    "from datetime import datetime\n",
    "import xlwings as xw"
   ]
  },
  {
   "cell_type": "markdown",
   "metadata": {},
   "source": [
    "If the file is formatted in any way other than .xlsx, run it through this cell to convert it.\n",
    "\n",
    "Ensure that the .xlsx file name doesnt already exist"
   ]
  },
  {
   "cell_type": "code",
   "execution_count": 4,
   "metadata": {},
   "outputs": [
    {
     "name": "stdout",
     "output_type": "stream",
     "text": [
      "Converted /Users/dillonjagatia/Track_Data/Raw/Historic_Data_PL_BH.xlsb to /Users/dillonjagatia/Track_Data/Raw/Output2.xlsx\n"
     ]
    }
   ],
   "source": [
    "# Specify the paths to your files\n",
    "other_file = r\"/Users/dillonjagatia/Track_Data/Raw/Historic_Data_PL_BH.xlsb\"\n",
    "xlsx_file = r\"/Users/dillonjagatia/Track_Data/Raw/Output2.xlsx\"\n",
    "\n",
    "# Connect to Excel (make sure Excel is closed for this operation)\n",
    "app = xw.App(visible=True)  # visible=False means that Excel will not be shown\n",
    "\n",
    "try:\n",
    "    # Open the original workbook\n",
    "    wb_other = app.books.open(other_file)\n",
    "\n",
    "    # Save workbook in xlsx format\n",
    "    wb_other.save(xlsx_file)\n",
    "\n",
    "    print(f\"Converted {other_file} to {xlsx_file}\")\n",
    "finally:\n",
    "    # Close the workbook and quit Excel\n",
    "    wb_other.close()\n",
    "    app.quit()"
   ]
  },
  {
   "cell_type": "markdown",
   "metadata": {},
   "source": [
    "If file already in .xlsx file format just put the file path in path and run"
   ]
  },
  {
   "cell_type": "code",
   "execution_count": 5,
   "metadata": {},
   "outputs": [],
   "source": [
    "# path = r'/Users/dillonjagatia/Track Data/Raw/Historic_Data_PL_BH.xlsx'\n",
    "\n",
    "file = pd.read_excel(\n",
    "    xlsx_file, sheet_name=None, dtype={0: \"datetime64[ns]\"}, parse_dates=True\n",
    ")"
   ]
  },
  {
   "cell_type": "code",
   "execution_count": 6,
   "metadata": {},
   "outputs": [],
   "source": [
    "# Save each sheet as a separate CSV file\n",
    "\n",
    "for ticker in list(file.keys()):\n",
    "\n",
    "    data = file[ticker]\n",
    "    data.rename({ticker: \"value_date\", \n",
    "                 \"Unnamed: 1\": \"value\"}, \n",
    "                 inplace=True, axis=1)\n",
    "    \n",
    "    data[\"code\"] = ticker\n",
    "    data = data[[\"code\", \"value_date\", \"value\"]]\n",
    "    \n",
    "    data.to_csv(\n",
    "        f\"/Users/dillonjagatia/Track_Data/Processed/{ticker}_{datetime.now().strftime(\"%Y-%m-%d\")}.csv\",\n",
    "        index=False,\n",
    "    )"
   ]
  }
 ],
 "metadata": {
  "kernelspec": {
   "display_name": "plbpy-env",
   "language": "python",
   "name": "python3"
  },
  "language_info": {
   "codemirror_mode": {
    "name": "ipython",
    "version": 3
   },
   "file_extension": ".py",
   "mimetype": "text/x-python",
   "name": "python",
   "nbconvert_exporter": "python",
   "pygments_lexer": "ipython3",
   "version": "3.12.4"
  }
 },
 "nbformat": 4,
 "nbformat_minor": 2
}
