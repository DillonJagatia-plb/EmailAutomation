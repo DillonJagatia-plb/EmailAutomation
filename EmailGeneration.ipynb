{
 "cells": [
  {
   "cell_type": "markdown",
   "metadata": {},
   "source": [
    "# Data Request"
   ]
  },
  {
   "cell_type": "code",
   "execution_count": null,
   "metadata": {},
   "outputs": [],
   "source": [
    "from EmailTemplate import data_request, Message, BankContacts\n",
    "\n",
    "bankList = ['SG']\n",
    "client = 'Koch'\n",
    "PM = \"Kent Voss (vossk@kochinvests.com)\"\n",
    "\n",
    "for bank in bankList:\n",
    "\n",
    "        To_recipient = BankContacts[bank][1]\n",
    "        CC_recipient = BankContacts['PLB']\n",
    "        body = data_request(bank, client, PM)\n",
    "\n",
    "\n",
    "        if (bank == 'BarclaysUS') | (bank == 'BarclaysUK'):\n",
    "\n",
    "                bank = 'Barclays'\n",
    "\n",
    "        # subject = f'Premialab / {bank} / {client}'\n",
    "        subject = f'Premialab / {bank} / {client}'\n",
    "\n",
    "        Message(subject=subject, body=body, to_recip=To_recipient, cc_recip=CC_recipient, is_html=True)"
   ]
  },
  {
   "cell_type": "markdown",
   "metadata": {},
   "source": [
    "# Hedge Fund Request"
   ]
  },
  {
   "cell_type": "code",
   "execution_count": null,
   "metadata": {},
   "outputs": [],
   "source": [
    "from EmailTemplate import hf_request, Message, BankContacts, pm_bank_dict\n",
    "\n",
    "bankList = sorted(BankContacts.keys())\n",
    "bankList.remove('PLB')\n",
    "client = 'Koch'\n",
    "\n",
    "if any(v == '' for v in pm_bank_dict.values()):\n",
    "    raise ValueError(\"No PM found for the client\")\n",
    "\n",
    "for bank in bankList:\n",
    "\n",
    "        To_recipient = BankContacts[bank][1]\n",
    "        CC_recipient = BankContacts['PLB']\n",
    "\n",
    "        if len(pm_bank_dict[bank]) == 0:\n",
    "                \n",
    "                pass\n",
    "        else:\n",
    "\n",
    "                body = hf_request(bank, client, pm_bank_dict)\n",
    "\n",
    "                if (bank == 'BarclaysUS') | (bank == 'BarclaysUK'):\n",
    "\n",
    "                        bank = 'Barclays'\n",
    "\n",
    "                subject = f'Premialab / {bank} / {client}'\n",
    "\n",
    "                Message(subject=subject, body=body, to_recip=To_recipient, cc_recip=CC_recipient, is_html=True)"
   ]
  },
  {
   "cell_type": "markdown",
   "metadata": {},
   "source": [
    "# AdHoc Request"
   ]
  },
  {
   "cell_type": "code",
   "execution_count": 3,
   "metadata": {},
   "outputs": [],
   "source": [
    "from EmailTemplate import data_request, Message, BankContacts\n",
    "\n",
    "bankList = ['BarclaysUK', 'BofA', 'Citi', 'GS', 'JPM', 'Macquarie', 'MS', 'UBS']\n",
    "# client = 'Koch'\n",
    "# PM = \"Kent Voss (vossk@kochinvests.com)\"\n",
    "\n",
    "for bank in bankList:\n",
    "\n",
    "        To_recipient = BankContacts[bank][1]\n",
    "        CC_recipient = BankContacts['PLB']\n",
    "        body =  f\"\"\"\n",
    "        <html>\n",
    "                <head>\n",
    "                        <meta http-equiv=\"Content-Type\" content=\"text/html; charset=utf-8\">\n",
    "                </head>\n",
    "                <body>\n",
    "                        <div style=\"font-family: Calibri; font-size: 11pt;\">\n",
    "                        Hi {BankContacts[bank][0]}\n",
    "\n",
    "                        <p>Could you please confirm if the below strategies have any corresponding intraday components?</p>\n",
    "\n",
    "                        <p>Please note this is part of our QA Validation process. The transaction reports are not required at this moment.<br>\n",
    "                        Thank you.</p>\n",
    "                        </div>\n",
    "                </body>\n",
    "        </html>\"\"\"\n",
    "\n",
    "\n",
    "        if (bank == 'BarclaysUS') | (bank == 'BarclaysUK'):\n",
    "\n",
    "                bank = 'Barclays'\n",
    "\n",
    "        # subject = f'Premialab / {bank} / {client}'\n",
    "        subject = f'Premialab / {bank} - Intraday Component Confirmation'\n",
    "\n",
    "        Message(subject=subject, body=body, to_recip=To_recipient, cc_recip=CC_recipient, is_html=True)"
   ]
  },
  {
   "cell_type": "code",
   "execution_count": null,
   "metadata": {},
   "outputs": [],
   "source": []
  }
 ],
 "metadata": {
  "kernelspec": {
   "display_name": "python3DJ",
   "language": "python",
   "name": "python3"
  },
  "language_info": {
   "codemirror_mode": {
    "name": "ipython",
    "version": 3
   },
   "file_extension": ".py",
   "mimetype": "text/x-python",
   "name": "python",
   "nbconvert_exporter": "python",
   "pygments_lexer": "ipython3",
   "version": "3.12.10"
  }
 },
 "nbformat": 4,
 "nbformat_minor": 2
}
